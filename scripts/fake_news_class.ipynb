{
 "cells": [
  {
   "cell_type": "markdown",
   "id": "b1596647",
   "metadata": {},
   "source": [
    "<div float: center>\n",
    "    <img src=\"../common/../common/logo_DH.png\" width=\"30%\" height=\"30%\" style=\"text-align: left;\">\n",
    "    <img src=\"../common/wipro_logo.png\"  width=\"20%\" height=\"20%\" style=\"text-align: right; margin-left:400px;\">\n",
    "<div/>\n",
    "\n",
    "---\n",
    "\n",
    "# SHARK ATTACK ANALYSIS\n",
    "\n",
    "Developed by:\n",
    "- Eng. Aer. Pablo Bauer\n",
    "\n",
    "<a id=\"table_contents\"></a> \n",
    "## Table of Contents\n",
    "\n",
    "### <a href='#intro'>1. Introduction</a>\n",
    "- #### <a href='#case'>1.1. Case</a>\n",
    "- #### <a href='#workflow'>1.2. Workflow</a>\n",
    "\n",
    "### <a href='#section_mod_import'>2. Modules Import</a>\n",
    "\n",
    "\n",
    "### <a href='#dataset_import'>3. DataSet Import</a> \n",
    "- #### <a href='#cleaninig'>3.1. Cleaninig data</a>\n",
    "\n",
    "### <a  href='#set_training'>4. Set and training Dataset</a>\n",
    "- #### <a href='#features_dummies'>4.1. Features and dummies</a>\n",
    "- #### <a href='#split'>4.2. Split training Dataset</a>\n",
    "- #### <a href='#matrix_corr'>4.3. Correlation Matrx</a>\n",
    "- #### <a href='#analysis_corr'>4.4. Correlation Analysis</a>\n",
    "\n",
    "### <a  href='#models_evaluations'>5. Metrics and Evaluations</a>\n",
    "- #### <a href='#pipeline_rfr'>5.1. PipeLine [RandomForestRegressor]</a>\n",
    "- #### <a href='#features_imp_rfr'>5.2. Features Importance [RandomForestRegressor]</a>\n",
    "- #### <a href='#pipeline_ada'>5.3. PipeLine [Ada Boost Regressor]</a>\n",
    "- #### <a href='#features_imp_ada'>5.4. Features Importance [Ada Boost Regressor]</a>\n",
    "- #### <a href='#pipeline_dtr'>5.5. PipeLine [DecisionTreeRegressor]</a>\n",
    "- #### <a href='#features_imp_dtr'>5.6. Features Importance [DecisionTreeRegressor]</a>\n",
    "- #### <a href='#pipeline_knn'>5.7. PipeLine [KNN]</a>\n",
    "- #### <a href='#features_imp_knn'>5.8. Features Importance [KNN]</a>\n",
    "- #### <a href='#best_performance'>5.9. Entrenamiento con los parámetros de mejor performance [DataSet Completo]</a>\n",
    "    \n",
    "### <a href='#roc_curve'>6. ROC curve</a>\n",
    "- #### <a href='#section_roc_auc'>6.1. ROC and AUC</a>\n",
    "\n",
    "### <a href='#export_pickle'>7. Expostarndo en Pickle</a>\n",
    "\n",
    "### <a href='#conclusions'>8. Conclusuions</a>\n",
    "---"
   ]
  },
  {
   "cell_type": "code",
   "execution_count": null,
   "id": "5f254a22",
   "metadata": {},
   "outputs": [],
   "source": []
  }
 ],
 "metadata": {
  "kernelspec": {
   "display_name": "Python [conda env:dhdsblend2022] *",
   "language": "python",
   "name": "conda-env-dhdsblend2022-py"
  },
  "language_info": {
   "codemirror_mode": {
    "name": "ipython",
    "version": 3
   },
   "file_extension": ".py",
   "mimetype": "text/x-python",
   "name": "python",
   "nbconvert_exporter": "python",
   "pygments_lexer": "ipython3",
   "version": "3.8.15"
  }
 },
 "nbformat": 4,
 "nbformat_minor": 5
}
